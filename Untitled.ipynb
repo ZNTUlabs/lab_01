{
 "cells": [
  {
   "cell_type": "code",
   "execution_count": 2,
   "metadata": {},
   "outputs": [
    {
     "name": "stdout",
     "output_type": "stream",
     "text": [
      "2\n"
     ]
    }
   ],
   "source": [
    "import os\n",
    "\n",
    "class Person:\n",
    "\n",
    "    #  Static list for contain all person\n",
    "    persons_list = []\n",
    "\n",
    "    def __init__(self, first_name, last_name, parent_name, address, born_year, phone, tall, weight, gender):\n",
    "        self.first_name = first_name\n",
    "        self.last_name = last_name\n",
    "        self.parent_name = parent_name\n",
    "        self.address = address\n",
    "        self.born_year = born_year\n",
    "        self.phone = phone\n",
    "        self.tall = tall\n",
    "        self.weight = weight\n",
    "        self.gender = gender\n",
    "\n",
    "        self.persons_list.append(self)\n",
    "        self.write_to_report()\n",
    "        \n",
    "\n",
    "    def write_to_report(self):\n",
    "\n",
    "        report_file = open('report', 'a+')\n",
    "        report_file.write(self.first_name + \"\\n\")\n",
    "        report_file.close\n",
    "\n",
    "    def person_counter(self, gender_type):\n",
    "        \"\"\"\n",
    "        This is general function for count of male/female persons\n",
    "        \"\"\"\n",
    "        counter = 0\n",
    "        for item in self.persons_list:\n",
    "            if item.gender == gender_type:\n",
    "                counter += 1\n",
    "        return counter\n",
    "\n",
    "    def __str__(self):\n",
    "        \"\"\"\n",
    "        Convert object to string\n",
    "        \"\"\"\n",
    "        return 'First name: ' + self.first_name\n",
    "\n",
    "    \n",
    "# Create a few persons\n",
    "# read from file, like JSON\n",
    "Oleh = Person('Oleh', 'Levchenko', 'Anatoliy', 'ZP', 1982, '0992550572', 175, 90, 'male')\n",
    "Anna = Person('Anna', 'Levchenko', 'Anatoliy', 'ZP', 1986, '0992550524', 165, 50, 'female')\n",
    "Peter = Person('Peter', 'Johnson', 'Sam', 'NY', 1982, '7012347852', 185, 82, 'male')\n",
    "Robert = Person('Robert', 'Planck', 'Gregory', 'LA', 1992, '7802136592', 178, 92, 'male')\n",
    "Mary = Person('Mary', 'Porter', 'Franck', 'FL', 2001, '7023659812', 168, 51, 'female')\n",
    "\n",
    "# Init list of persons\n",
    "persons_list = []\n",
    "\n",
    "# Add persons to list\n",
    "persons_list.append(Oleh)\n",
    "persons_list.append(Anna)\n",
    "persons_list.append(Peter)\n",
    "persons_list.append(Robert)\n",
    "persons_list.append(Mary)\n",
    "\n",
    "# Show count of person's gender\n",
    "print(Mary.person_counter('female'))"
   ]
  },
  {
   "cell_type": "code",
   "execution_count": null,
   "metadata": {},
   "outputs": [],
   "source": []
  }
 ],
 "metadata": {
  "kernelspec": {
   "display_name": "Python 3",
   "language": "python",
   "name": "python3"
  },
  "language_info": {
   "codemirror_mode": {
    "name": "ipython",
    "version": 3
   },
   "file_extension": ".py",
   "mimetype": "text/x-python",
   "name": "python",
   "nbconvert_exporter": "python",
   "pygments_lexer": "ipython3",
   "version": "3.5.2"
  }
 },
 "nbformat": 4,
 "nbformat_minor": 2
}
